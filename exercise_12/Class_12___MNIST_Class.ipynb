{
 "cells": [
  {
   "cell_type": "markdown",
   "metadata": {},
   "source": [
    "# Class 12 - MNIST (Modified National Institute of Standards and Technology)"
   ]
  },
  {
   "cell_type": "markdown",
   "metadata": {},
   "source": [
    "## The dataset\n",
    "\n",
    "The MNIST dataset is one of the most popular datasets used in machine learning. It is also used typically as a popular benchmark for new algorithms. Today, we want to see how our learned algorithms perform on this real dataset.\n",
    "\n",
    "The MNIST dataset contains handwritten digits together with their labels written by 500 different people, 50% of whome were high school studets and the other 50% were employees from the US Census Bureau. It was constructed by Yann LeCun and is publicly available on his webpage [here](http://yann.lecun.com/exdb/mnist/index.html). There you can also find some interesting and cutting edge results on machine learning algorithms used for image classification.\n",
    "\n",
    "More precisely, the MNIST dataset consists of the following four parts:\n",
    "- Training set images: 60000 samples (training-images-idx3-ubyte.gz)\n",
    "- Training set labels: 60000 labels (training-labels-idx1-ubyte.gz)\n",
    "- Test set images: 10000 samples (t10k-images-idx3-ubyte.gz)\n",
    "- Test set labels: 10000 labels (t10k-images-idx1-ubyte.gz)\n",
    "\n",
    "As images are generally large in size the data are compressed and stored in a specific file format called byte format. Hence, some extra effort is needed to handle these.\n",
    "\n",
    "Each image in the dataset consists of $28*28=784$ pixel describing the grayscales with an integer ranging from 0 to 255. These values are stored in a matrix row-wise."
   ]
  },
  {
   "cell_type": "markdown",
   "metadata": {},
   "source": [
    "## Loading the data and transforming them into csv files"
   ]
  },
  {
   "cell_type": "markdown",
   "metadata": {},
   "source": [
    "Let us start by loading the dataset. Be careful: After downloading them from the webpage of Yann LeCun you still need to unzip them! "
   ]
  },
  {
   "cell_type": "code",
   "execution_count": 1,
   "metadata": {},
   "outputs": [],
   "source": [
    "import os\n",
    "import struct # allows to convert byte format integers\n",
    "import numpy as np\n",
    "\n",
    "def load_mnist(path, kind='train'): # Load MNIST data from 'path'\n",
    "    labels_path = os.path.join(path, '%s-labels.idx1-ubyte' % kind)\n",
    "    images_path = os.path.join(path, '%s-images.idx3-ubyte' % kind)\n",
    "    \n",
    "    with open(labels_path, 'rb') as lbpath:\n",
    "        magic, n = struct.unpack('>II', lbpath.read(8)) # reads header of file which is a description of the file protocol\n",
    "        labels = np.fromfile(lbpath, dtype=np.uint8) # reads data\n",
    "    \n",
    "    with open(images_path, 'rb') as imgpath:\n",
    "        magic, num, rows, cols = struct.unpack('>IIII', imgpath.read(16))\n",
    "        images = np.fromfile(imgpath, dtype=np.int8).reshape(len(labels), 784)\n",
    "        images = np.mod(images, 255) # convert negative integers to integer between 0 and 255\n",
    "    \n",
    "    return images, labels\n",
    "\n",
    "\n",
    "x_train, y_train = load_mnist('', kind='train')\n",
    "x_test, y_test = load_mnist('', kind='t10k')"
   ]
  },
  {
   "cell_type": "code",
   "execution_count": 2,
   "metadata": {
    "scrolled": false
   },
   "outputs": [
    {
     "name": "stdout",
     "output_type": "stream",
     "text": [
      "(60000, 784)\n",
      "(60000,)\n",
      "(10000, 784)\n",
      "(10000,)\n"
     ]
    }
   ],
   "source": [
    "print(x_train.shape)\n",
    "print(y_train.shape)\n",
    "print(x_test.shape)\n",
    "print(y_test.shape)"
   ]
  },
  {
   "cell_type": "markdown",
   "metadata": {},
   "source": [
    "Let's have a look at some of the images."
   ]
  },
  {
   "cell_type": "code",
   "execution_count": 3,
   "metadata": {
    "scrolled": false
   },
   "outputs": [
    {
     "data": {
      "image/png": "[encoded data removed]",
      "text/plain": [
       "<Figure size 432x288 with 10 Axes>"
      ]
     },
     "metadata": {},
     "output_type": "display_data"
    }
   ],
   "source": [
    "import matplotlib.pyplot as plt\n",
    "%matplotlib inline\n",
    "\n",
    "fig, ax = plt.subplots(nrows=2, ncols=5, sharex=True, sharey=True)\n",
    "ax = ax.flatten()\n",
    "for i in range(10):\n",
    "    img = x_train[y_train==i][0].reshape(28, 28)\n",
    "    ax[i].imshow(img, cmap='Greys')\n",
    "ax[0].set_xticks([])\n",
    "ax[0].set_yticks([])\n",
    "plt.tight_layout()\n",
    "plt.show()"
   ]
  },
  {
   "cell_type": "markdown",
   "metadata": {},
   "source": [
    "For comparison, let us also plot multiple images of the same digit to investigate the different handwritings."
   ]
  },
  {
   "cell_type": "code",
   "execution_count": 4,
   "metadata": {
    "scrolled": false
   },
   "outputs": [
    {
     "data": {
      "image/png": "[encoded data removed]",
      "text/plain": [
       "<Figure size 432x288 with 25 Axes>"
      ]
     },
     "metadata": {},
     "output_type": "display_data"
    }
   ],
   "source": [
    "fig, ax = plt.subplots(nrows=5, ncols=5, sharex=True, sharey=True)\n",
    "ax = ax.flatten()\n",
    "for i in range(25):\n",
    "    img = x_train[y_train==7][i].reshape(28, 28)\n",
    "    ax[i].imshow(img, cmap='Greys')\n",
    "ax[0].set_xticks([])\n",
    "ax[0].set_yticks([])\n",
    "plt.tight_layout()\n",
    "plt.show()"
   ]
  },
  {
   "cell_type": "markdown",
   "metadata": {},
   "source": [
    "## Techniques for multiclass classification\n",
    "\n",
    "Classification with more than two classes can be computationally quite challanging depending on the algorithm used. While some ML algorithms allow for a straightforward generalization (e.g. the k-nearest neighbours algorithm), others are much more rigid. Luckily, there exists a well-known workaround to solve multiclass-classification nevertheless: we reduce to the binary classification case.\n",
    "\n",
    "Assume we have $k$ different classes we want to learn.\n",
    "\n",
    "### One vs. all (one vs. rest)\n",
    "\n",
    "Perform $k$ different binary classifications, each of which discriminates between one class and the rest of the classes. In more detail, for $i∈\\{1,\\dotsc,k\\}$, consider the training set\n",
    "$$S_i = \\{(x_j, (-1)^{\\delta_{y_j \\ne i}}) \\vert (x_j,y_j)∈S\\}.$$\n",
    "For each i, we learn a binary predictor $h_i$ which should satisfy $h_i(x)=1$ if and only if $x$ belongs to class $i$. The multiclass problem is then solved by predicting according to the rule\n",
    "$$h(x) = \\text{argmax}_{i∈\\{1,\\dotsc,k\\}} h_i(x).$$\n",
    "In case there are several binary hypothesis predicting $1$, we try to use additional information about the confidence of each prediction (e.g. the distance to the decision boundary in a SVM).\n",
    "\n",
    "### One vs. one (all pairs)\n",
    "\n",
    "Perform $k(k-1)/2$ binary classifications, each of which discriminates between a pair of classes. In more detail, fix $i,j∈\\{1,…,k\\}$ and perform a binary classification between all the data points with label either $i$ or $j$. Finally, the multiclass classifier predicts by using the label with the highest number of \"wins\"."
   ]
  },
  {
   "cell_type": "markdown",
   "metadata": {},
   "source": [
    "## How to proceed?"
   ]
  }
 ],
 "metadata": {
  "kernelspec": {
   "display_name": "Python 3",
   "language": "python",
   "name": "python3"
  },
  "language_info": {
   "codemirror_mode": {
    "name": "ipython",
    "version": 3
   },
   "file_extension": ".py",
   "mimetype": "text/x-python",
   "name": "python",
   "nbconvert_exporter": "python",
   "pygments_lexer": "ipython3",
   "version": "3.5.2"
  }
 },
 "nbformat": 4,
 "nbformat_minor": 2
}
